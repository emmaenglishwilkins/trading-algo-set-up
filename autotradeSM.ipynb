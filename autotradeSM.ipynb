{
  "nbformat": 4,
  "nbformat_minor": 0,
  "metadata": {
    "colab": {
      "provenance": [],
      "authorship_tag": "ABX9TyOM2xhyKOm6XkNYTZtKOWhn",
      "include_colab_link": true
    },
    "kernelspec": {
      "name": "python3",
      "display_name": "Python 3"
    },
    "language_info": {
      "name": "python"
    }
  },
  "cells": [
    {
      "cell_type": "markdown",
      "metadata": {
        "id": "view-in-github",
        "colab_type": "text"
      },
      "source": [
        "<a href=\"https://colab.research.google.com/github/emmaenglishwilkins/trading-algo-set-up/blob/main/autotradeSM.ipynb\" target=\"_parent\"><img src=\"https://colab.research.google.com/assets/colab-badge.svg\" alt=\"Open In Colab\"/></a>"
      ]
    },
    {
      "cell_type": "markdown",
      "source": [
        "# Overview\n",
        "\n",
        "This is a working automated trading bot with basic strategy, placing paper market orders on a single symbol (stock) for now...\n",
        "\n",
        "## Imports\n",
        "* using alpaca trading api\n",
        "* using python libraries such as pandas, numpy seaborn, time, requests, math,etc\n",
        "* google sheets api for logging\n",
        "\n",
        "\n",
        "## Configuration\n",
        "* secret key and alpaca trading api key to connect to platform\n",
        "* authentication to google sheets to write to\n",
        "\n",
        "\n"
      ],
      "metadata": {
        "id": "mhV33ozp9ffs"
      }
    },
    {
      "cell_type": "markdown",
      "source": [
        "### Imports"
      ],
      "metadata": {
        "id": "mHbucD6r94E0"
      }
    },
    {
      "cell_type": "code",
      "source": [
        "!pip install alpaca-trade-api"
      ],
      "metadata": {
        "colab": {
          "base_uri": "https://localhost:8080/"
        },
        "collapsed": true,
        "id": "izXFdjyHG-Nv",
        "outputId": "7e13ea83-014a-4b33-a1e3-9af30e72d921"
      },
      "execution_count": 1,
      "outputs": [
        {
          "output_type": "stream",
          "name": "stdout",
          "text": [
            "Collecting alpaca-trade-api\n",
            "  Downloading alpaca_trade_api-3.2.0-py3-none-any.whl.metadata (29 kB)\n",
            "Requirement already satisfied: pandas>=0.18.1 in /usr/local/lib/python3.11/dist-packages (from alpaca-trade-api) (2.2.2)\n",
            "Requirement already satisfied: numpy>=1.11.1 in /usr/local/lib/python3.11/dist-packages (from alpaca-trade-api) (2.0.2)\n",
            "Requirement already satisfied: requests<3,>2 in /usr/local/lib/python3.11/dist-packages (from alpaca-trade-api) (2.32.3)\n",
            "Collecting urllib3<2,>1.24 (from alpaca-trade-api)\n",
            "  Downloading urllib3-1.26.20-py2.py3-none-any.whl.metadata (50 kB)\n",
            "\u001b[2K     \u001b[90m━━━━━━━━━━━━━━━━━━━━━━━━━━━━━━━━━━━━━━━━\u001b[0m \u001b[32m50.1/50.1 kB\u001b[0m \u001b[31m2.2 MB/s\u001b[0m eta \u001b[36m0:00:00\u001b[0m\n",
            "\u001b[?25hRequirement already satisfied: websocket-client<2,>=0.56.0 in /usr/local/lib/python3.11/dist-packages (from alpaca-trade-api) (1.8.0)\n",
            "Collecting websockets<11,>=9.0 (from alpaca-trade-api)\n",
            "  Downloading websockets-10.4-cp311-cp311-manylinux_2_5_x86_64.manylinux1_x86_64.manylinux_2_17_x86_64.manylinux2014_x86_64.whl.metadata (6.4 kB)\n",
            "Collecting msgpack==1.0.3 (from alpaca-trade-api)\n",
            "  Downloading msgpack-1.0.3.tar.gz (123 kB)\n",
            "\u001b[2K     \u001b[90m━━━━━━━━━━━━━━━━━━━━━━━━━━━━━━━━━━━━━━━\u001b[0m \u001b[32m123.8/123.8 kB\u001b[0m \u001b[31m4.0 MB/s\u001b[0m eta \u001b[36m0:00:00\u001b[0m\n",
            "\u001b[?25h  Preparing metadata (setup.py) ... \u001b[?25l\u001b[?25hdone\n",
            "Requirement already satisfied: aiohttp<4,>=3.8.3 in /usr/local/lib/python3.11/dist-packages (from alpaca-trade-api) (3.11.15)\n",
            "Collecting PyYAML==6.0.1 (from alpaca-trade-api)\n",
            "  Downloading PyYAML-6.0.1-cp311-cp311-manylinux_2_17_x86_64.manylinux2014_x86_64.whl.metadata (2.1 kB)\n",
            "Collecting deprecation==2.1.0 (from alpaca-trade-api)\n",
            "  Downloading deprecation-2.1.0-py2.py3-none-any.whl.metadata (4.6 kB)\n",
            "Requirement already satisfied: packaging in /usr/local/lib/python3.11/dist-packages (from deprecation==2.1.0->alpaca-trade-api) (24.2)\n",
            "Requirement already satisfied: aiohappyeyeballs>=2.3.0 in /usr/local/lib/python3.11/dist-packages (from aiohttp<4,>=3.8.3->alpaca-trade-api) (2.6.1)\n",
            "Requirement already satisfied: aiosignal>=1.1.2 in /usr/local/lib/python3.11/dist-packages (from aiohttp<4,>=3.8.3->alpaca-trade-api) (1.3.2)\n",
            "Requirement already satisfied: attrs>=17.3.0 in /usr/local/lib/python3.11/dist-packages (from aiohttp<4,>=3.8.3->alpaca-trade-api) (25.3.0)\n",
            "Requirement already satisfied: frozenlist>=1.1.1 in /usr/local/lib/python3.11/dist-packages (from aiohttp<4,>=3.8.3->alpaca-trade-api) (1.6.0)\n",
            "Requirement already satisfied: multidict<7.0,>=4.5 in /usr/local/lib/python3.11/dist-packages (from aiohttp<4,>=3.8.3->alpaca-trade-api) (6.4.3)\n",
            "Requirement already satisfied: propcache>=0.2.0 in /usr/local/lib/python3.11/dist-packages (from aiohttp<4,>=3.8.3->alpaca-trade-api) (0.3.1)\n",
            "Requirement already satisfied: yarl<2.0,>=1.17.0 in /usr/local/lib/python3.11/dist-packages (from aiohttp<4,>=3.8.3->alpaca-trade-api) (1.20.0)\n",
            "Requirement already satisfied: python-dateutil>=2.8.2 in /usr/local/lib/python3.11/dist-packages (from pandas>=0.18.1->alpaca-trade-api) (2.8.2)\n",
            "Requirement already satisfied: pytz>=2020.1 in /usr/local/lib/python3.11/dist-packages (from pandas>=0.18.1->alpaca-trade-api) (2025.2)\n",
            "Requirement already satisfied: tzdata>=2022.7 in /usr/local/lib/python3.11/dist-packages (from pandas>=0.18.1->alpaca-trade-api) (2025.2)\n",
            "Requirement already satisfied: charset-normalizer<4,>=2 in /usr/local/lib/python3.11/dist-packages (from requests<3,>2->alpaca-trade-api) (3.4.1)\n",
            "Requirement already satisfied: idna<4,>=2.5 in /usr/local/lib/python3.11/dist-packages (from requests<3,>2->alpaca-trade-api) (3.10)\n",
            "Requirement already satisfied: certifi>=2017.4.17 in /usr/local/lib/python3.11/dist-packages (from requests<3,>2->alpaca-trade-api) (2025.1.31)\n",
            "Requirement already satisfied: six>=1.5 in /usr/local/lib/python3.11/dist-packages (from python-dateutil>=2.8.2->pandas>=0.18.1->alpaca-trade-api) (1.17.0)\n",
            "Downloading alpaca_trade_api-3.2.0-py3-none-any.whl (34 kB)\n",
            "Downloading deprecation-2.1.0-py2.py3-none-any.whl (11 kB)\n",
            "Downloading PyYAML-6.0.1-cp311-cp311-manylinux_2_17_x86_64.manylinux2014_x86_64.whl (757 kB)\n",
            "\u001b[2K   \u001b[90m━━━━━━━━━━━━━━━━━━━━━━━━━━━━━━━━━━━━━━━━\u001b[0m \u001b[32m757.7/757.7 kB\u001b[0m \u001b[31m16.8 MB/s\u001b[0m eta \u001b[36m0:00:00\u001b[0m\n",
            "\u001b[?25hDownloading urllib3-1.26.20-py2.py3-none-any.whl (144 kB)\n",
            "\u001b[2K   \u001b[90m━━━━━━━━━━━━━━━━━━━━━━━━━━━━━━━━━━━━━━━━\u001b[0m \u001b[32m144.2/144.2 kB\u001b[0m \u001b[31m8.6 MB/s\u001b[0m eta \u001b[36m0:00:00\u001b[0m\n",
            "\u001b[?25hDownloading websockets-10.4-cp311-cp311-manylinux_2_5_x86_64.manylinux1_x86_64.manylinux_2_17_x86_64.manylinux2014_x86_64.whl (107 kB)\n",
            "\u001b[2K   \u001b[90m━━━━━━━━━━━━━━━━━━━━━━━━━━━━━━━━━━━━━━━━\u001b[0m \u001b[32m107.4/107.4 kB\u001b[0m \u001b[31m4.7 MB/s\u001b[0m eta \u001b[36m0:00:00\u001b[0m\n",
            "\u001b[?25hBuilding wheels for collected packages: msgpack\n",
            "  Building wheel for msgpack (setup.py) ... \u001b[?25l\u001b[?25hdone\n",
            "  Created wheel for msgpack: filename=msgpack-1.0.3-cp311-cp311-linux_x86_64.whl size=15688 sha256=36e090bce97f2804b4ede43a3edcc71906d9d058f03fb036a875b692f56fd339\n",
            "  Stored in directory: /root/.cache/pip/wheels/f6/35/da/ed9b26b510235e00e3a3c3bab7bad97b59214729662255ab3d\n",
            "Successfully built msgpack\n",
            "Installing collected packages: msgpack, websockets, urllib3, PyYAML, deprecation, alpaca-trade-api\n",
            "  Attempting uninstall: msgpack\n",
            "    Found existing installation: msgpack 1.1.0\n",
            "    Uninstalling msgpack-1.1.0:\n",
            "      Successfully uninstalled msgpack-1.1.0\n",
            "  Attempting uninstall: websockets\n",
            "    Found existing installation: websockets 15.0.1\n",
            "    Uninstalling websockets-15.0.1:\n",
            "      Successfully uninstalled websockets-15.0.1\n",
            "  Attempting uninstall: urllib3\n",
            "    Found existing installation: urllib3 2.3.0\n",
            "    Uninstalling urllib3-2.3.0:\n",
            "      Successfully uninstalled urllib3-2.3.0\n",
            "  Attempting uninstall: PyYAML\n",
            "    Found existing installation: PyYAML 6.0.2\n",
            "    Uninstalling PyYAML-6.0.2:\n",
            "      Successfully uninstalled PyYAML-6.0.2\n",
            "\u001b[31mERROR: pip's dependency resolver does not currently take into account all the packages that are installed. This behaviour is the source of the following dependency conflicts.\n",
            "google-genai 1.11.0 requires websockets<15.1.0,>=13.0.0, but you have websockets 10.4 which is incompatible.\u001b[0m\u001b[31m\n",
            "\u001b[0mSuccessfully installed PyYAML-6.0.1 alpaca-trade-api-3.2.0 deprecation-2.1.0 msgpack-1.0.3 urllib3-1.26.20 websockets-10.4\n"
          ]
        }
      ]
    },
    {
      "cell_type": "code",
      "source": [
        "!pip install alpaca.py"
      ],
      "metadata": {
        "colab": {
          "base_uri": "https://localhost:8080/"
        },
        "id": "oNK3ptBWMNtq",
        "outputId": "e5b84586-90dc-4890-8571-53b2e04fe3f5",
        "collapsed": true
      },
      "execution_count": 2,
      "outputs": [
        {
          "output_type": "stream",
          "name": "stdout",
          "text": [
            "Collecting alpaca.py\n",
            "  Downloading alpaca_py-0.39.4-py3-none-any.whl.metadata (13 kB)\n",
            "Requirement already satisfied: msgpack<2.0.0,>=1.0.3 in /usr/local/lib/python3.11/dist-packages (from alpaca.py) (1.0.3)\n",
            "Requirement already satisfied: pandas>=1.5.3 in /usr/local/lib/python3.11/dist-packages (from alpaca.py) (2.2.2)\n",
            "Requirement already satisfied: pydantic<3.0.0,>=2.0.3 in /usr/local/lib/python3.11/dist-packages (from alpaca.py) (2.11.3)\n",
            "Requirement already satisfied: requests<3.0.0,>=2.30.0 in /usr/local/lib/python3.11/dist-packages (from alpaca.py) (2.32.3)\n",
            "Collecting sseclient-py<2.0.0,>=1.7.2 (from alpaca.py)\n",
            "  Downloading sseclient_py-1.8.0-py2.py3-none-any.whl.metadata (2.0 kB)\n",
            "Requirement already satisfied: websockets>=10.4 in /usr/local/lib/python3.11/dist-packages (from alpaca.py) (10.4)\n",
            "Requirement already satisfied: numpy>=1.23.2 in /usr/local/lib/python3.11/dist-packages (from pandas>=1.5.3->alpaca.py) (2.0.2)\n",
            "Requirement already satisfied: python-dateutil>=2.8.2 in /usr/local/lib/python3.11/dist-packages (from pandas>=1.5.3->alpaca.py) (2.8.2)\n",
            "Requirement already satisfied: pytz>=2020.1 in /usr/local/lib/python3.11/dist-packages (from pandas>=1.5.3->alpaca.py) (2025.2)\n",
            "Requirement already satisfied: tzdata>=2022.7 in /usr/local/lib/python3.11/dist-packages (from pandas>=1.5.3->alpaca.py) (2025.2)\n",
            "Requirement already satisfied: annotated-types>=0.6.0 in /usr/local/lib/python3.11/dist-packages (from pydantic<3.0.0,>=2.0.3->alpaca.py) (0.7.0)\n",
            "Requirement already satisfied: pydantic-core==2.33.1 in /usr/local/lib/python3.11/dist-packages (from pydantic<3.0.0,>=2.0.3->alpaca.py) (2.33.1)\n",
            "Requirement already satisfied: typing-extensions>=4.12.2 in /usr/local/lib/python3.11/dist-packages (from pydantic<3.0.0,>=2.0.3->alpaca.py) (4.13.2)\n",
            "Requirement already satisfied: typing-inspection>=0.4.0 in /usr/local/lib/python3.11/dist-packages (from pydantic<3.0.0,>=2.0.3->alpaca.py) (0.4.0)\n",
            "Requirement already satisfied: charset-normalizer<4,>=2 in /usr/local/lib/python3.11/dist-packages (from requests<3.0.0,>=2.30.0->alpaca.py) (3.4.1)\n",
            "Requirement already satisfied: idna<4,>=2.5 in /usr/local/lib/python3.11/dist-packages (from requests<3.0.0,>=2.30.0->alpaca.py) (3.10)\n",
            "Requirement already satisfied: urllib3<3,>=1.21.1 in /usr/local/lib/python3.11/dist-packages (from requests<3.0.0,>=2.30.0->alpaca.py) (1.26.20)\n",
            "Requirement already satisfied: certifi>=2017.4.17 in /usr/local/lib/python3.11/dist-packages (from requests<3.0.0,>=2.30.0->alpaca.py) (2025.1.31)\n",
            "Requirement already satisfied: six>=1.5 in /usr/local/lib/python3.11/dist-packages (from python-dateutil>=2.8.2->pandas>=1.5.3->alpaca.py) (1.17.0)\n",
            "Downloading alpaca_py-0.39.4-py3-none-any.whl (121 kB)\n",
            "\u001b[2K   \u001b[90m━━━━━━━━━━━━━━━━━━━━━━━━━━━━━━━━━━━━━━━━\u001b[0m \u001b[32m121.7/121.7 kB\u001b[0m \u001b[31m4.2 MB/s\u001b[0m eta \u001b[36m0:00:00\u001b[0m\n",
            "\u001b[?25hDownloading sseclient_py-1.8.0-py2.py3-none-any.whl (8.8 kB)\n",
            "Installing collected packages: sseclient-py, alpaca.py\n",
            "Successfully installed alpaca.py-0.39.4 sseclient-py-1.8.0\n"
          ]
        }
      ]
    },
    {
      "cell_type": "code",
      "source": [
        "!pip install --upgrade gspread gspread_dataframe\n",
        "!pip install gspread\n",
        "!pip install oauth2client"
      ],
      "metadata": {
        "colab": {
          "base_uri": "https://localhost:8080/"
        },
        "collapsed": true,
        "id": "JYMZEpGTA_Py",
        "outputId": "36d6d2b5-21d0-43a6-9d47-f5ab00a8507f"
      },
      "execution_count": 3,
      "outputs": [
        {
          "output_type": "stream",
          "name": "stdout",
          "text": [
            "Requirement already satisfied: gspread in /usr/local/lib/python3.11/dist-packages (6.2.0)\n",
            "Requirement already satisfied: gspread_dataframe in /usr/local/lib/python3.11/dist-packages (4.0.0)\n",
            "Requirement already satisfied: google-auth>=1.12.0 in /usr/local/lib/python3.11/dist-packages (from gspread) (2.38.0)\n",
            "Requirement already satisfied: google-auth-oauthlib>=0.4.1 in /usr/local/lib/python3.11/dist-packages (from gspread) (1.2.2)\n",
            "Requirement already satisfied: pandas>=0.24.0 in /usr/local/lib/python3.11/dist-packages (from gspread_dataframe) (2.2.2)\n",
            "Requirement already satisfied: six>=1.12.0 in /usr/local/lib/python3.11/dist-packages (from gspread_dataframe) (1.17.0)\n",
            "Requirement already satisfied: cachetools<6.0,>=2.0.0 in /usr/local/lib/python3.11/dist-packages (from google-auth>=1.12.0->gspread) (5.5.2)\n",
            "Requirement already satisfied: pyasn1-modules>=0.2.1 in /usr/local/lib/python3.11/dist-packages (from google-auth>=1.12.0->gspread) (0.4.2)\n",
            "Requirement already satisfied: rsa<5,>=3.1.4 in /usr/local/lib/python3.11/dist-packages (from google-auth>=1.12.0->gspread) (4.9.1)\n",
            "Requirement already satisfied: requests-oauthlib>=0.7.0 in /usr/local/lib/python3.11/dist-packages (from google-auth-oauthlib>=0.4.1->gspread) (2.0.0)\n",
            "Requirement already satisfied: numpy>=1.23.2 in /usr/local/lib/python3.11/dist-packages (from pandas>=0.24.0->gspread_dataframe) (2.0.2)\n",
            "Requirement already satisfied: python-dateutil>=2.8.2 in /usr/local/lib/python3.11/dist-packages (from pandas>=0.24.0->gspread_dataframe) (2.8.2)\n",
            "Requirement already satisfied: pytz>=2020.1 in /usr/local/lib/python3.11/dist-packages (from pandas>=0.24.0->gspread_dataframe) (2025.2)\n",
            "Requirement already satisfied: tzdata>=2022.7 in /usr/local/lib/python3.11/dist-packages (from pandas>=0.24.0->gspread_dataframe) (2025.2)\n",
            "Requirement already satisfied: pyasn1<0.7.0,>=0.6.1 in /usr/local/lib/python3.11/dist-packages (from pyasn1-modules>=0.2.1->google-auth>=1.12.0->gspread) (0.6.1)\n",
            "Requirement already satisfied: oauthlib>=3.0.0 in /usr/local/lib/python3.11/dist-packages (from requests-oauthlib>=0.7.0->google-auth-oauthlib>=0.4.1->gspread) (3.2.2)\n",
            "Requirement already satisfied: requests>=2.0.0 in /usr/local/lib/python3.11/dist-packages (from requests-oauthlib>=0.7.0->google-auth-oauthlib>=0.4.1->gspread) (2.32.3)\n",
            "Requirement already satisfied: charset-normalizer<4,>=2 in /usr/local/lib/python3.11/dist-packages (from requests>=2.0.0->requests-oauthlib>=0.7.0->google-auth-oauthlib>=0.4.1->gspread) (3.4.1)\n",
            "Requirement already satisfied: idna<4,>=2.5 in /usr/local/lib/python3.11/dist-packages (from requests>=2.0.0->requests-oauthlib>=0.7.0->google-auth-oauthlib>=0.4.1->gspread) (3.10)\n",
            "Requirement already satisfied: urllib3<3,>=1.21.1 in /usr/local/lib/python3.11/dist-packages (from requests>=2.0.0->requests-oauthlib>=0.7.0->google-auth-oauthlib>=0.4.1->gspread) (1.26.20)\n",
            "Requirement already satisfied: certifi>=2017.4.17 in /usr/local/lib/python3.11/dist-packages (from requests>=2.0.0->requests-oauthlib>=0.7.0->google-auth-oauthlib>=0.4.1->gspread) (2025.1.31)\n",
            "Requirement already satisfied: gspread in /usr/local/lib/python3.11/dist-packages (6.2.0)\n",
            "Requirement already satisfied: google-auth>=1.12.0 in /usr/local/lib/python3.11/dist-packages (from gspread) (2.38.0)\n",
            "Requirement already satisfied: google-auth-oauthlib>=0.4.1 in /usr/local/lib/python3.11/dist-packages (from gspread) (1.2.2)\n",
            "Requirement already satisfied: cachetools<6.0,>=2.0.0 in /usr/local/lib/python3.11/dist-packages (from google-auth>=1.12.0->gspread) (5.5.2)\n",
            "Requirement already satisfied: pyasn1-modules>=0.2.1 in /usr/local/lib/python3.11/dist-packages (from google-auth>=1.12.0->gspread) (0.4.2)\n",
            "Requirement already satisfied: rsa<5,>=3.1.4 in /usr/local/lib/python3.11/dist-packages (from google-auth>=1.12.0->gspread) (4.9.1)\n",
            "Requirement already satisfied: requests-oauthlib>=0.7.0 in /usr/local/lib/python3.11/dist-packages (from google-auth-oauthlib>=0.4.1->gspread) (2.0.0)\n",
            "Requirement already satisfied: pyasn1<0.7.0,>=0.6.1 in /usr/local/lib/python3.11/dist-packages (from pyasn1-modules>=0.2.1->google-auth>=1.12.0->gspread) (0.6.1)\n",
            "Requirement already satisfied: oauthlib>=3.0.0 in /usr/local/lib/python3.11/dist-packages (from requests-oauthlib>=0.7.0->google-auth-oauthlib>=0.4.1->gspread) (3.2.2)\n",
            "Requirement already satisfied: requests>=2.0.0 in /usr/local/lib/python3.11/dist-packages (from requests-oauthlib>=0.7.0->google-auth-oauthlib>=0.4.1->gspread) (2.32.3)\n",
            "Requirement already satisfied: charset-normalizer<4,>=2 in /usr/local/lib/python3.11/dist-packages (from requests>=2.0.0->requests-oauthlib>=0.7.0->google-auth-oauthlib>=0.4.1->gspread) (3.4.1)\n",
            "Requirement already satisfied: idna<4,>=2.5 in /usr/local/lib/python3.11/dist-packages (from requests>=2.0.0->requests-oauthlib>=0.7.0->google-auth-oauthlib>=0.4.1->gspread) (3.10)\n",
            "Requirement already satisfied: urllib3<3,>=1.21.1 in /usr/local/lib/python3.11/dist-packages (from requests>=2.0.0->requests-oauthlib>=0.7.0->google-auth-oauthlib>=0.4.1->gspread) (1.26.20)\n",
            "Requirement already satisfied: certifi>=2017.4.17 in /usr/local/lib/python3.11/dist-packages (from requests>=2.0.0->requests-oauthlib>=0.7.0->google-auth-oauthlib>=0.4.1->gspread) (2025.1.31)\n",
            "Requirement already satisfied: oauth2client in /usr/local/lib/python3.11/dist-packages (4.1.3)\n",
            "Requirement already satisfied: httplib2>=0.9.1 in /usr/local/lib/python3.11/dist-packages (from oauth2client) (0.22.0)\n",
            "Requirement already satisfied: pyasn1>=0.1.7 in /usr/local/lib/python3.11/dist-packages (from oauth2client) (0.6.1)\n",
            "Requirement already satisfied: pyasn1-modules>=0.0.5 in /usr/local/lib/python3.11/dist-packages (from oauth2client) (0.4.2)\n",
            "Requirement already satisfied: rsa>=3.1.4 in /usr/local/lib/python3.11/dist-packages (from oauth2client) (4.9.1)\n",
            "Requirement already satisfied: six>=1.6.1 in /usr/local/lib/python3.11/dist-packages (from oauth2client) (1.17.0)\n",
            "Requirement already satisfied: pyparsing!=3.0.0,!=3.0.1,!=3.0.2,!=3.0.3,<4,>=2.4.2 in /usr/local/lib/python3.11/dist-packages (from httplib2>=0.9.1->oauth2client) (3.2.3)\n"
          ]
        }
      ]
    },
    {
      "cell_type": "code",
      "execution_count": 4,
      "metadata": {
        "id": "uteDNL4i-v_N"
      },
      "outputs": [],
      "source": [
        "# imports\n",
        "import matplotlib.pyplot as plt\n",
        "import numpy as np\n",
        "import pandas as pd\n",
        "import seaborn as sns\n",
        "import requests\n",
        "import time\n",
        "import math\n",
        "\n",
        "import alpaca_trade_api as tradeapi\n",
        "\n",
        "# import backtrader as bt"
      ]
    },
    {
      "cell_type": "markdown",
      "source": [
        "### Configuration\n",
        "\n",
        "connects to alpaca account and gets variable for trading client - prints inital account number and buying power of the account - part of general set up"
      ],
      "metadata": {
        "id": "_zDcEyWp-a9F"
      }
    },
    {
      "cell_type": "code",
      "source": [
        "# configuration\n",
        "from google.colab import userdata\n",
        "\n",
        "ALPACA_API_KEY = userdata.get('ALPACA_API_KEY')\n",
        "ALPACA_SECRET_KEY = userdata.get('ALPACA_SECRET_KEY')\n",
        "ALPACA_BASE_URL = 'https://paper-api.alpaca.markets/v2'\n",
        "\n",
        "api = tradeapi.REST(ALPACA_API_KEY, ALPACA_SECRET_KEY, ALPACA_BASE_URL, 'v2')\n",
        "session = requests.Session()"
      ],
      "metadata": {
        "id": "reycyyAiC4bt"
      },
      "execution_count": 8,
      "outputs": []
    },
    {
      "cell_type": "code",
      "source": [
        "import gspread\n",
        "from google.auth import default\n",
        "\n",
        "creds, _ = default()\n",
        "gc = gspread.authorize(creds)"
      ],
      "metadata": {
        "id": "1V0dsZY1BEKC"
      },
      "execution_count": 9,
      "outputs": []
    },
    {
      "cell_type": "code",
      "source": [
        "from alpaca.trading.client import TradingClient\n",
        "\n",
        "trading_client = TradingClient(ALPACA_API_KEY, ALPACA_SECRET_KEY)\n",
        "\n",
        "print(trading_client.get_account().account_number)\n",
        "print(trading_client.get_account().buying_power)"
      ],
      "metadata": {
        "colab": {
          "base_uri": "https://localhost:8080/"
        },
        "id": "MTu6GZdyLpak",
        "outputId": "a996fa84-f529-4642-e634-56c1a9465873"
      },
      "execution_count": 10,
      "outputs": [
        {
          "output_type": "stream",
          "name": "stdout",
          "text": [
            "PA3FTDD94XAH\n",
            "199507.32\n"
          ]
        }
      ]
    },
    {
      "cell_type": "code",
      "source": [
        "import gspread_dataframe as gd\n",
        "import pandas as pd\n",
        "\n",
        "# --- Daily Sheet Handling ---\n",
        "def get_daily_sheet():\n",
        "    today_str = datetime.now().strftime('%Y-%m-%d')\n",
        "    try:\n",
        "        sh = gc.open('TradingBotLogs')\n",
        "        try:\n",
        "            worksheet = sh.worksheet(today_str)\n",
        "        except gspread.exceptions.WorksheetNotFound:\n",
        "            worksheet = sh.add_worksheet(title=today_str, rows=\"1000\", cols=\"10\")\n",
        "            worksheet.update('A1', [['Timestamp', 'Action', 'Symbol', 'Price', 'Quantity']])\n",
        "    except Exception as e:\n",
        "        print(f\"🔥 Error setting up sheet: {e}\")\n",
        "        worksheet = None\n",
        "    return worksheet\n",
        "\n",
        "# --- Logging a Trade ---\n",
        "def log_trade(action, symbol, price, qty):\n",
        "    sheet = get_daily_sheet()\n",
        "    if sheet:\n",
        "        now = pd.Timestamp.now(tz='America/New_York')  # NYSE timezone\n",
        "        row = [[now.strftime('%Y-%m-%d %H:%M:%S'), action, symbol, price, qty]]\n",
        "        sheet.append_rows(row)\n",
        "        print(f\"📋 Logged Trade: {row}\")\n",
        "    else:\n",
        "        print(\"❌ Sheet not available!\")\n"
      ],
      "metadata": {
        "id": "5ORybXFmBXf1"
      },
      "execution_count": 12,
      "outputs": []
    },
    {
      "cell_type": "markdown",
      "source": [
        "### Historical Data\n",
        "\n",
        "though not all market trends will be the same as past historical data it can be good to capture it to understand processing -- helping with trading without emotion using tend (almanac of previous pricing)"
      ],
      "metadata": {
        "id": "eCQLwI2v-s3W"
      }
    },
    {
      "cell_type": "code",
      "source": [
        "# get historical data\n",
        "from alpaca.data import StockHistoricalDataClient, StockTradesRequest\n",
        "from datetime import datetime\n",
        "\n",
        "data_client = StockHistoricalDataClient(ALPACA_API_KEY, ALPACA_SECRET_KEY)\n",
        "\n",
        "request_params = StockTradesRequest(\n",
        "    symbol_or_symbols = \"AAPL\",             # apple\n",
        "    start= datetime(2025, 3, 17, 14, 30),\n",
        "    end= datetime(2025, 3, 17, 15, 30)\n",
        ")\n",
        "\n",
        "trades = data_client.get_stock_trades(request_params)\n",
        "\n",
        "# print(trades) --"
      ],
      "metadata": {
        "id": "GX9YMskZMvAM"
      },
      "execution_count": 13,
      "outputs": []
    },
    {
      "cell_type": "markdown",
      "source": [
        "### Functionality\n",
        "\n",
        "* regualr market order (functional)\n",
        "* limit order (functional)\n",
        "\n",
        "### Strategy\n",
        "* get moving averages\n",
        "* generate signal\n",
        "* get current price (refresh on the minute)"
      ],
      "metadata": {
        "id": "4ANJvmql-7iV"
      }
    },
    {
      "cell_type": "code",
      "source": [
        "# placing order reg_market_order limit_order\n",
        "# side = OrderSide.BUY or OrderSide.SELL cleaner - can be reused\n",
        "from alpaca.trading.requests import MarketOrderRequest\n",
        "from alpaca.trading.requests import LimitOrderRequest\n",
        "from alpaca.trading.enums import OrderSide, TimeInForce\n",
        "\n",
        "def reg_market_order(symbol, qty, side):\n",
        "  # regular market order\n",
        "  market_order_data = MarketOrderRequest(\n",
        "      symbol=symbol,\n",
        "      qty=qty,\n",
        "      side=side,\n",
        "      time_in_force=TimeInForce.DAY\n",
        "  )\n",
        "  market_order_data = trading_client.submit_order(market_order_data)\n",
        "  return market_order_data\n",
        "\n",
        "def limit_order(symbol, qty, limit_price, side):\n",
        "  # Shorting --?? / Limit order\n",
        "  limit_order_data = MarketOrderRequest(\n",
        "      symbol=symbol,\n",
        "      qty=qty,\n",
        "      side=side,\n",
        "      time_in_force=TimeInForce.DAY,\n",
        "      limit_price=limit_price\n",
        "  )\n",
        "  limit_order_response = trading_client.submit_order(limit_order_data)\n",
        "  return limit_order_response\n",
        "\n",
        "# print(market_order_data)"
      ],
      "metadata": {
        "collapsed": true,
        "id": "KFpIJg70OkXs"
      },
      "execution_count": 14,
      "outputs": []
    },
    {
      "cell_type": "code",
      "source": [
        "# strategy logic\n",
        "import pandas as pd\n",
        "import time\n",
        "\n",
        "def get_moving_averages(symbol, short_window, long_window):\n",
        "    bars = trading_client.get_bars(symbol, timeframe='1Min', limit=long_window).df\n",
        "    bars = bars[bars['symbol'] == symbol]\n",
        "\n",
        "    bars['short_ma'] = bars['close'].rolling(window=short_window).mean()\n",
        "    bars['long_ma'] = bars['close'].rolling(window=long_window).mean()\n",
        "\n",
        "    return bars\n",
        "\n",
        "def generate_signal(df):\n",
        "    if df['short_ma'].iloc[-1] > df['long_ma'].iloc[-1] and df['short_ma'].iloc[-2] <= df['long_ma'].iloc[-2]:\n",
        "        return 'buy'\n",
        "    elif df['short_ma'].iloc[-1] < df['long_ma'].iloc[-1] and df['short_ma'].iloc[-2] >= df['long_ma'].iloc[-2]:\n",
        "        return 'sell'\n",
        "    else:\n",
        "        return 'hold'\n",
        "\n",
        "def get_current_price(symbol):\n",
        "    barset = trading_client.get_bars(symbol, timeframe='1Min', limit=1).df\n",
        "    return barset['close'].iloc[-1]"
      ],
      "metadata": {
        "id": "WeqiBmoD7GCi"
      },
      "execution_count": 15,
      "outputs": []
    },
    {
      "cell_type": "markdown",
      "source": [
        "### Trading Loop\n",
        "\n",
        "currently only uses one Symbol (apple) --> waits 60sec between infinite loop\n",
        "\n",
        "* added Stop-Loss and Take-Profit\n",
        "* added trailing stop-loss\n",
        "\n",
        "** TODO: add trailing take-profit\n",
        "* first want to implement trading multiple stocks\n",
        "* and add automation"
      ],
      "metadata": {
        "id": "8HHN-XBo_R1b"
      }
    },
    {
      "cell_type": "code",
      "source": [
        "# Bot settings (global variables)\n",
        "BUDGET = 10000  # Total dollars you want to use\n",
        "TRAILING_PERCENT = 3  # Trailing Stop Loss % (example: 3%)\n",
        "SYMBOLS = ['AAPL', 'MSFT', 'TSLA', 'PLTR', 'AMD', 'GOOGL', 'SOFI']  # Your stock list\n",
        "MAX_POSITIONS = len(SYMBOLS)  # We spread budget evenly across symbols\n",
        "MARKET_OPEN = \"09:30\"\n",
        "MARKET_CLOSE = \"16:00\"\n",
        "TRADE_AMOUNT = BUDGET // MAX_POSITIONS  # Even distribution of budget across stocks\n",
        "qty = TRADE_AMOUNT  # How much of each stock to buy based on your budget"
      ],
      "metadata": {
        "id": "8F1mbACIZshz"
      },
      "execution_count": 17,
      "outputs": []
    },
    {
      "cell_type": "code",
      "source": [
        "def is_market_open():\n",
        "    now = datetime.now().strftime(\"%H:%M\")\n",
        "    return MARKET_OPEN <= now <= MARKET_CLOSE"
      ],
      "metadata": {
        "id": "OOI_6hTvZ3Mb"
      },
      "execution_count": 18,
      "outputs": []
    },
    {
      "cell_type": "code",
      "source": [
        "import time\n",
        "import random\n",
        "from datetime import datetime\n",
        "\n",
        "short_window = 20\n",
        "long_window = 50\n",
        "\n",
        "# State per stock\n",
        "stock_data = {symbol: {'position': None, 'buy_price': None, 'stop_loss_price': None} for symbol in SYMBOLS}\n",
        "\n",
        "def is_market_open():\n",
        "    now = datetime.now().strftime('%H:%M')\n",
        "    return MARKET_OPEN <= now <= MARKET_CLOSE\n",
        "\n",
        "# --- Main Trading Loop ---\n",
        "while True:\n",
        "    try:\n",
        "        if not is_market_open():\n",
        "            print(\"Market closed. Sleeping...\")\n",
        "            time.sleep(300)  # sleep for 5 min when market closed\n",
        "            continue\n",
        "\n",
        "        for symbol in SYMBOLS:\n",
        "            # Fetch the stock data and signals (this is your own method)\n",
        "            df = get_moving_averages(symbol, short_window, long_window)\n",
        "            signal = generate_signal(df)\n",
        "            current_price = get_current_price(symbol)\n",
        "\n",
        "            data = stock_data[symbol]\n",
        "\n",
        "            if data['position'] is None:\n",
        "                if signal == 'buy':\n",
        "                    # Buy stock\n",
        "                    order = reg_market_order(symbol, qty, OrderSide.BUY)\n",
        "                    data['buy_price'] = float(current_price)\n",
        "                    data['stop_loss_price'] = data['buy_price'] * (1 - (TRAILING_PERCENT / 100))\n",
        "                    data['position'] = 'long'\n",
        "\n",
        "                    log_trade('BUY', symbol, data['buy_price'], qty)\n",
        "                    print(f\"✅ Bought {symbol} at ${data['buy_price']:.2f} | Stop-loss: ${data['stop_loss_price']:.2f}\")\n",
        "                else:\n",
        "                    print(f\"[{symbol}] Waiting to Buy. Signal: {signal}\")\n",
        "\n",
        "            else:\n",
        "                # Update Trailing Stop\n",
        "                potential_new_stop = current_price * (1 - (TRAILING_PERCENT / 100))\n",
        "                if potential_new_stop > data['stop_loss_price']:\n",
        "                    data['stop_loss_price'] = potential_new_stop\n",
        "                    print(f\"[{symbol}] Trailing Stop moved up to ${data['stop_loss_price']:.2f}\")\n",
        "\n",
        "                # Check for Stop-Loss Sell\n",
        "                if current_price <= data['stop_loss_price']:\n",
        "                    order = reg_market_order(symbol, qty, OrderSide.SELL)\n",
        "\n",
        "                    log_trade('SELL', symbol, current_price, qty)\n",
        "                    print(f\"🚨 Sold {symbol} at ${current_price:.2f} due to stop-loss trigger.\")\n",
        "\n",
        "                    # Reset state\n",
        "                    stock_data[symbol] = {'position': None, 'buy_price': None, 'stop_loss_price': None}\n",
        "                else:\n",
        "                    print(f\"[{symbol}] Holding... Current: ${current_price:.2f} | Stop-loss: ${data['stop_loss_price']:.2f}\")\n",
        "\n",
        "    except Exception as e:\n",
        "        print(f\"🔥 Error in main loop: {e}\")\n",
        "\n",
        "    # Random sleep between 55 and 65 seconds to mimic human behavior\n",
        "    sleep_time = random.randint(55, 65)\n",
        "    print(f\"Sleeping {sleep_time} seconds...\\n\")\n",
        "    time.sleep(sleep_time)\n"
      ],
      "metadata": {
        "colab": {
          "base_uri": "https://localhost:8080/",
          "height": 228
        },
        "id": "khwv_MWz8Y4V",
        "outputId": "229991e1-e3ca-4aee-be9d-b29429249cc0"
      },
      "execution_count": 19,
      "outputs": [
        {
          "output_type": "stream",
          "name": "stdout",
          "text": [
            "Market closed. Sleeping...\n"
          ]
        },
        {
          "output_type": "error",
          "ename": "KeyboardInterrupt",
          "evalue": "",
          "traceback": [
            "\u001b[0;31m---------------------------------------------------------------------------\u001b[0m",
            "\u001b[0;31mKeyboardInterrupt\u001b[0m                         Traceback (most recent call last)",
            "\u001b[0;32m<ipython-input-19-b011cf53595f>\u001b[0m in \u001b[0;36m<cell line: 0>\u001b[0;34m()\u001b[0m\n\u001b[1;32m     18\u001b[0m         \u001b[0;32mif\u001b[0m \u001b[0;32mnot\u001b[0m \u001b[0mis_market_open\u001b[0m\u001b[0;34m(\u001b[0m\u001b[0;34m)\u001b[0m\u001b[0;34m:\u001b[0m\u001b[0;34m\u001b[0m\u001b[0;34m\u001b[0m\u001b[0m\n\u001b[1;32m     19\u001b[0m             \u001b[0mprint\u001b[0m\u001b[0;34m(\u001b[0m\u001b[0;34m\"Market closed. Sleeping...\"\u001b[0m\u001b[0;34m)\u001b[0m\u001b[0;34m\u001b[0m\u001b[0;34m\u001b[0m\u001b[0m\n\u001b[0;32m---> 20\u001b[0;31m             \u001b[0mtime\u001b[0m\u001b[0;34m.\u001b[0m\u001b[0msleep\u001b[0m\u001b[0;34m(\u001b[0m\u001b[0;36m300\u001b[0m\u001b[0;34m)\u001b[0m  \u001b[0;31m# sleep for 5 min when market closed\u001b[0m\u001b[0;34m\u001b[0m\u001b[0;34m\u001b[0m\u001b[0m\n\u001b[0m\u001b[1;32m     21\u001b[0m             \u001b[0;32mcontinue\u001b[0m\u001b[0;34m\u001b[0m\u001b[0;34m\u001b[0m\u001b[0m\n\u001b[1;32m     22\u001b[0m \u001b[0;34m\u001b[0m\u001b[0m\n",
            "\u001b[0;31mKeyboardInterrupt\u001b[0m: "
          ]
        }
      ]
    },
    {
      "cell_type": "markdown",
      "source": [
        "### Managing account\n",
        "* get all orders\n",
        "* bulk operation for getting all orders\n",
        "* streaming stock market data"
      ],
      "metadata": {
        "id": "f8aR6v83_ltM"
      }
    },
    {
      "cell_type": "code",
      "source": [
        "# # get, cancel and managing orders -- managing orders in queue\n",
        "# # or else they live there forever ??\n",
        "# from alpaca.trading.requests import GetOrdersRequest\n",
        "# from alpaca.trading.enums import OrderSide, QueryOrderStatus\n",
        "\n",
        "# request_params = GetOrdersRequest(\n",
        "#     status=QueryOrderStatus.OPEN,\n",
        "# )\n",
        "\n",
        "# orders = trading_client.get_orders(request_params)\n",
        "\n",
        "# for order in orders:\n",
        "#   print(order.id)\n",
        "#   trading_client.cancel_order_by_id(order.id)"
      ],
      "metadata": {
        "collapsed": true,
        "id": "VCUCwQwvRdzr"
      },
      "execution_count": null,
      "outputs": []
    },
    {
      "cell_type": "code",
      "source": [
        "# # updating all -- bulk operation\n",
        "\n",
        "# positions = trading_client.get_all_positions()\n",
        "# # print(positions)\n",
        "# for position in positions:\n",
        "#   print(position.symbol, position.current_price)\n",
        "#   # increase set orders\n",
        "#   # modify subset of postions (or all in this instance)\n",
        "\n",
        "# # completly liquidate account\n",
        "# # boolean value is for canceling orders as well\n",
        "# # trading_client.close_all_positions(True)"
      ],
      "metadata": {
        "id": "UjsP4p-7SpQl"
      },
      "execution_count": null,
      "outputs": []
    },
    {
      "cell_type": "code",
      "source": [
        "# # streaming stocks real time stock market trade data\n",
        "# from alpaca.data.live import StockDataStream\n",
        "# from alpaca.data.live import CryptoDataStream\n",
        "\n",
        "# stream = StockDataStream(ALPACA_API_KEY, ALPACA_SECRET_KEY)\n",
        "\n",
        "# async def handle_trade(data):\n",
        "#   print(data)\n",
        "\n",
        "# stream.subscribe_trades(handle_trade, \"APPL\")\n",
        "# stream.run()\n",
        "\n",
        "# async def handle_quote(data):\n",
        "#   print(data)\n",
        "\n",
        "# stream.subscribe_quotes(handle_trade, \"APPL\") # what you can buy stock for at every second?\n",
        "# stream.run()"
      ],
      "metadata": {
        "id": "oHTOE6VOyGQb"
      },
      "execution_count": null,
      "outputs": []
    },
    {
      "cell_type": "code",
      "source": [
        "# def get_market_times():\n",
        "#     nyc = timezone('America/New_York')\n",
        "#     today = datetime.now(nyc).date().isoformat()\n",
        "#     calendar = api.get_calendar(start=today, end=today)[0]\n",
        "#     open_time = calendar.open.astimezone(nyc)\n",
        "#     close_time = calendar.close.astimezone(nyc)\n",
        "#     return open_time, close_time\n",
        "\n",
        "# def wait_for_market_open(open_time):\n",
        "#     now = datetime.now(timezone('America/New_York'))\n",
        "#     while now < open_time:\n",
        "#         print(\"Waiting for market to open...\")\n",
        "#         time.sleep(30)\n",
        "#         now = datetime.now(timezone('America/New_York'))"
      ],
      "metadata": {
        "id": "SKihS71rF10R"
      },
      "execution_count": null,
      "outputs": []
    },
    {
      "cell_type": "code",
      "source": [
        "# # risk management parameters\n",
        "# MIN_SHARE_PRICE = 2.0\n",
        "# MAX_SHARE_PRICE = 13.0\n",
        "# MIN_DOLLAR_VOLUME = 500000\n",
        "# DEFAULT_STOP_LOSS = 0.95\n",
        "# RISK_PER_TRADE = 0.001"
      ],
      "metadata": {
        "id": "rf0nNj_-DC9g"
      },
      "execution_count": null,
      "outputs": []
    },
    {
      "cell_type": "code",
      "source": [
        "# # data\n",
        "# def get_tradable_symbols():\n",
        "#   all_assets = api.list_assets()\n",
        "#   tradable_symbols = [asset.symbol for asset in all_assets if asset.tradable and asset.status == 'active']\n",
        "#   return tradable_symbols\n",
        "\n",
        "# def get_recent_minute_history(symbol, limit=1000):\n",
        "#   try:\n",
        "#     barset = api.get_bars(symbol, tradeapi.TimeFrame.Minute, limit=limit).df\n",
        "#     return barset\n",
        "#   except Exception as e:\n",
        "#     print(f\"Error fetching data for {symbol}: {e}\")\n",
        "#     return None"
      ],
      "metadata": {
        "id": "teCPYiGX_Qeh"
      },
      "execution_count": null,
      "outputs": []
    },
    {
      "cell_type": "code",
      "source": [
        "# def main():\n",
        "#     symbols = get_tradable_symbols()\n",
        "#     open_time, close_time = get_market_times()\n",
        "#     wait_for_market_open(open_time)\n",
        "\n",
        "#     print(f\"Market is open! Evaluating symbols...\")\n",
        "#     portfolio_value = float(api.get_account().portfolio_value)\n",
        "\n",
        "#     for symbol in symbols:\n",
        "#         barset = get_recent_minute_history(symbol)\n",
        "#         strategy(symbol, barset, portfolio_value)"
      ],
      "metadata": {
        "id": "f2mhXK3wDqzK"
      },
      "execution_count": null,
      "outputs": []
    },
    {
      "cell_type": "code",
      "source": [
        "# class TestStrategy(bt.Strategy):\n",
        "#   def __init__(self):\n",
        "#     pass\n",
        "#   def next(self):\n",
        "#     if not self.position:\n",
        "#       self.buy()\n",
        "#     else:\n",
        "#       self.close()\n",
        "\n",
        "# cerebro = bt.Cerebro()\n",
        "# data = bt.feeds.\n",
        "# cerebro.adddata(data)\n",
        "# cerebro.addstrategy(TestStrategy)\n",
        "# cerebro.run()\n",
        "# cerebro.plot()"
      ],
      "metadata": {
        "id": "v9y7g7wp_QKK"
      },
      "execution_count": null,
      "outputs": []
    }
  ]
}