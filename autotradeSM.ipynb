{
  "nbformat": 4,
  "nbformat_minor": 0,
  "metadata": {
    "colab": {
      "provenance": [],
      "authorship_tag": "ABX9TyNds0NwoZcIO/Rb16Q6Lp/Z",
      "include_colab_link": true
    },
    "kernelspec": {
      "name": "python3",
      "display_name": "Python 3"
    },
    "language_info": {
      "name": "python"
    }
  },
  "cells": [
    {
      "cell_type": "markdown",
      "metadata": {
        "id": "view-in-github",
        "colab_type": "text"
      },
      "source": [
        "<a href=\"https://colab.research.google.com/github/emmaenglishwilkins/trading-algo-set-up/blob/main/autotradeSM.ipynb\" target=\"_parent\"><img src=\"https://colab.research.google.com/assets/colab-badge.svg\" alt=\"Open In Colab\"/></a>"
      ]
    },
    {
      "cell_type": "markdown",
      "source": [
        "# Overview\n",
        "\n",
        "This is a working automated trading bot with basic strategy, placing paper market orders on a single symbol (stock) for now...\n",
        "\n",
        "## Imports\n",
        "* using alpaca trading api\n",
        "* using python libraries such as pandas, numpy seaborn, time, requests, math,etc\n",
        "* google sheets api for logging\n",
        "\n",
        "\n",
        "## Configuration\n",
        "* secret key and alpaca trading api key to connect to platform\n",
        "* authentication to google sheets to write to\n",
        "\n",
        "\n"
      ],
      "metadata": {
        "id": "mhV33ozp9ffs"
      }
    },
    {
      "cell_type": "markdown",
      "source": [
        "### Imports"
      ],
      "metadata": {
        "id": "mHbucD6r94E0"
      }
    },
    {
      "cell_type": "code",
      "source": [
        "!pip install alpaca-trade-api"
      ],
      "metadata": {
        "colab": {
          "base_uri": "https://localhost:8080/"
        },
        "collapsed": true,
        "id": "izXFdjyHG-Nv",
        "outputId": "1c400c5d-1637-410e-9374-1aff212ebcba"
      },
      "execution_count": null,
      "outputs": [
        {
          "output_type": "stream",
          "name": "stdout",
          "text": [
            "Collecting alpaca-trade-api\n",
            "  Downloading alpaca_trade_api-3.2.0-py3-none-any.whl.metadata (29 kB)\n",
            "Requirement already satisfied: pandas>=0.18.1 in /usr/local/lib/python3.11/dist-packages (from alpaca-trade-api) (2.2.2)\n",
            "Requirement already satisfied: numpy>=1.11.1 in /usr/local/lib/python3.11/dist-packages (from alpaca-trade-api) (2.0.2)\n",
            "Requirement already satisfied: requests<3,>2 in /usr/local/lib/python3.11/dist-packages (from alpaca-trade-api) (2.32.3)\n",
            "Collecting urllib3<2,>1.24 (from alpaca-trade-api)\n",
            "  Downloading urllib3-1.26.20-py2.py3-none-any.whl.metadata (50 kB)\n",
            "\u001b[2K     \u001b[90m━━━━━━━━━━━━━━━━━━━━━━━━━━━━━━━━━━━━━━━━\u001b[0m \u001b[32m50.1/50.1 kB\u001b[0m \u001b[31m3.9 MB/s\u001b[0m eta \u001b[36m0:00:00\u001b[0m\n",
            "\u001b[?25hRequirement already satisfied: websocket-client<2,>=0.56.0 in /usr/local/lib/python3.11/dist-packages (from alpaca-trade-api) (1.8.0)\n",
            "Collecting websockets<11,>=9.0 (from alpaca-trade-api)\n",
            "  Downloading websockets-10.4-cp311-cp311-manylinux_2_5_x86_64.manylinux1_x86_64.manylinux_2_17_x86_64.manylinux2014_x86_64.whl.metadata (6.4 kB)\n",
            "Collecting msgpack==1.0.3 (from alpaca-trade-api)\n",
            "  Downloading msgpack-1.0.3.tar.gz (123 kB)\n",
            "\u001b[2K     \u001b[90m━━━━━━━━━━━━━━━━━━━━━━━━━━━━━━━━━━━━━━━\u001b[0m \u001b[32m123.8/123.8 kB\u001b[0m \u001b[31m9.7 MB/s\u001b[0m eta \u001b[36m0:00:00\u001b[0m\n",
            "\u001b[?25h  Preparing metadata (setup.py) ... \u001b[?25l\u001b[?25hdone\n",
            "Requirement already satisfied: aiohttp<4,>=3.8.3 in /usr/local/lib/python3.11/dist-packages (from alpaca-trade-api) (3.11.15)\n",
            "Collecting PyYAML==6.0.1 (from alpaca-trade-api)\n",
            "  Downloading PyYAML-6.0.1-cp311-cp311-manylinux_2_17_x86_64.manylinux2014_x86_64.whl.metadata (2.1 kB)\n",
            "Collecting deprecation==2.1.0 (from alpaca-trade-api)\n",
            "  Downloading deprecation-2.1.0-py2.py3-none-any.whl.metadata (4.6 kB)\n",
            "Requirement already satisfied: packaging in /usr/local/lib/python3.11/dist-packages (from deprecation==2.1.0->alpaca-trade-api) (24.2)\n",
            "Requirement already satisfied: aiohappyeyeballs>=2.3.0 in /usr/local/lib/python3.11/dist-packages (from aiohttp<4,>=3.8.3->alpaca-trade-api) (2.6.1)\n",
            "Requirement already satisfied: aiosignal>=1.1.2 in /usr/local/lib/python3.11/dist-packages (from aiohttp<4,>=3.8.3->alpaca-trade-api) (1.3.2)\n",
            "Requirement already satisfied: attrs>=17.3.0 in /usr/local/lib/python3.11/dist-packages (from aiohttp<4,>=3.8.3->alpaca-trade-api) (25.3.0)\n",
            "Requirement already satisfied: frozenlist>=1.1.1 in /usr/local/lib/python3.11/dist-packages (from aiohttp<4,>=3.8.3->alpaca-trade-api) (1.5.0)\n",
            "Requirement already satisfied: multidict<7.0,>=4.5 in /usr/local/lib/python3.11/dist-packages (from aiohttp<4,>=3.8.3->alpaca-trade-api) (6.4.2)\n",
            "Requirement already satisfied: propcache>=0.2.0 in /usr/local/lib/python3.11/dist-packages (from aiohttp<4,>=3.8.3->alpaca-trade-api) (0.3.1)\n",
            "Requirement already satisfied: yarl<2.0,>=1.17.0 in /usr/local/lib/python3.11/dist-packages (from aiohttp<4,>=3.8.3->alpaca-trade-api) (1.19.0)\n",
            "Requirement already satisfied: python-dateutil>=2.8.2 in /usr/local/lib/python3.11/dist-packages (from pandas>=0.18.1->alpaca-trade-api) (2.8.2)\n",
            "Requirement already satisfied: pytz>=2020.1 in /usr/local/lib/python3.11/dist-packages (from pandas>=0.18.1->alpaca-trade-api) (2025.2)\n",
            "Requirement already satisfied: tzdata>=2022.7 in /usr/local/lib/python3.11/dist-packages (from pandas>=0.18.1->alpaca-trade-api) (2025.2)\n",
            "Requirement already satisfied: charset-normalizer<4,>=2 in /usr/local/lib/python3.11/dist-packages (from requests<3,>2->alpaca-trade-api) (3.4.1)\n",
            "Requirement already satisfied: idna<4,>=2.5 in /usr/local/lib/python3.11/dist-packages (from requests<3,>2->alpaca-trade-api) (3.10)\n",
            "Requirement already satisfied: certifi>=2017.4.17 in /usr/local/lib/python3.11/dist-packages (from requests<3,>2->alpaca-trade-api) (2025.1.31)\n",
            "Requirement already satisfied: six>=1.5 in /usr/local/lib/python3.11/dist-packages (from python-dateutil>=2.8.2->pandas>=0.18.1->alpaca-trade-api) (1.17.0)\n",
            "Downloading alpaca_trade_api-3.2.0-py3-none-any.whl (34 kB)\n",
            "Downloading deprecation-2.1.0-py2.py3-none-any.whl (11 kB)\n",
            "Downloading PyYAML-6.0.1-cp311-cp311-manylinux_2_17_x86_64.manylinux2014_x86_64.whl (757 kB)\n",
            "\u001b[2K   \u001b[90m━━━━━━━━━━━━━━━━━━━━━━━━━━━━━━━━━━━━━━━━\u001b[0m \u001b[32m757.7/757.7 kB\u001b[0m \u001b[31m43.4 MB/s\u001b[0m eta \u001b[36m0:00:00\u001b[0m\n",
            "\u001b[?25hDownloading urllib3-1.26.20-py2.py3-none-any.whl (144 kB)\n",
            "\u001b[2K   \u001b[90m━━━━━━━━━━━━━━━━━━━━━━━━━━━━━━━━━━━━━━━━\u001b[0m \u001b[32m144.2/144.2 kB\u001b[0m \u001b[31m12.0 MB/s\u001b[0m eta \u001b[36m0:00:00\u001b[0m\n",
            "\u001b[?25hDownloading websockets-10.4-cp311-cp311-manylinux_2_5_x86_64.manylinux1_x86_64.manylinux_2_17_x86_64.manylinux2014_x86_64.whl (107 kB)\n",
            "\u001b[2K   \u001b[90m━━━━━━━━━━━━━━━━━━━━━━━━━━━━━━━━━━━━━━━━\u001b[0m \u001b[32m107.4/107.4 kB\u001b[0m \u001b[31m8.9 MB/s\u001b[0m eta \u001b[36m0:00:00\u001b[0m\n",
            "\u001b[?25hBuilding wheels for collected packages: msgpack\n",
            "  Building wheel for msgpack (setup.py) ... \u001b[?25l\u001b[?25hdone\n",
            "  Created wheel for msgpack: filename=msgpack-1.0.3-cp311-cp311-linux_x86_64.whl size=15688 sha256=5ffbf44b3d20cc4de403448a646ac23647903550391fd5a9530a2c63b2fa7b75\n",
            "  Stored in directory: /root/.cache/pip/wheels/f6/35/da/ed9b26b510235e00e3a3c3bab7bad97b59214729662255ab3d\n",
            "Successfully built msgpack\n",
            "Installing collected packages: msgpack, websockets, urllib3, PyYAML, deprecation, alpaca-trade-api\n",
            "  Attempting uninstall: msgpack\n",
            "    Found existing installation: msgpack 1.1.0\n",
            "    Uninstalling msgpack-1.1.0:\n",
            "      Successfully uninstalled msgpack-1.1.0\n",
            "  Attempting uninstall: websockets\n",
            "    Found existing installation: websockets 15.0.1\n",
            "    Uninstalling websockets-15.0.1:\n",
            "      Successfully uninstalled websockets-15.0.1\n",
            "  Attempting uninstall: urllib3\n",
            "    Found existing installation: urllib3 2.3.0\n",
            "    Uninstalling urllib3-2.3.0:\n",
            "      Successfully uninstalled urllib3-2.3.0\n",
            "  Attempting uninstall: PyYAML\n",
            "    Found existing installation: PyYAML 6.0.2\n",
            "    Uninstalling PyYAML-6.0.2:\n",
            "      Successfully uninstalled PyYAML-6.0.2\n",
            "\u001b[31mERROR: pip's dependency resolver does not currently take into account all the packages that are installed. This behaviour is the source of the following dependency conflicts.\n",
            "google-genai 1.10.0 requires websockets<15.1.0,>=13.0.0, but you have websockets 10.4 which is incompatible.\u001b[0m\u001b[31m\n",
            "\u001b[0mSuccessfully installed PyYAML-6.0.1 alpaca-trade-api-3.2.0 deprecation-2.1.0 msgpack-1.0.3 urllib3-1.26.20 websockets-10.4\n"
          ]
        }
      ]
    },
    {
      "cell_type": "code",
      "source": [
        "!pip install alpaca.py"
      ],
      "metadata": {
        "colab": {
          "base_uri": "https://localhost:8080/"
        },
        "id": "oNK3ptBWMNtq",
        "outputId": "80ee3ac3-999c-4013-d66e-bafaa507c65c",
        "collapsed": true
      },
      "execution_count": null,
      "outputs": [
        {
          "output_type": "stream",
          "name": "stdout",
          "text": [
            "Collecting alpaca.py\n",
            "  Downloading alpaca_py-0.39.4-py3-none-any.whl.metadata (13 kB)\n",
            "Requirement already satisfied: msgpack<2.0.0,>=1.0.3 in /usr/local/lib/python3.11/dist-packages (from alpaca.py) (1.0.3)\n",
            "Requirement already satisfied: pandas>=1.5.3 in /usr/local/lib/python3.11/dist-packages (from alpaca.py) (2.2.2)\n",
            "Requirement already satisfied: pydantic<3.0.0,>=2.0.3 in /usr/local/lib/python3.11/dist-packages (from alpaca.py) (2.11.3)\n",
            "Requirement already satisfied: requests<3.0.0,>=2.30.0 in /usr/local/lib/python3.11/dist-packages (from alpaca.py) (2.32.3)\n",
            "Collecting sseclient-py<2.0.0,>=1.7.2 (from alpaca.py)\n",
            "  Downloading sseclient_py-1.8.0-py2.py3-none-any.whl.metadata (2.0 kB)\n",
            "Requirement already satisfied: websockets>=10.4 in /usr/local/lib/python3.11/dist-packages (from alpaca.py) (10.4)\n",
            "Requirement already satisfied: numpy>=1.23.2 in /usr/local/lib/python3.11/dist-packages (from pandas>=1.5.3->alpaca.py) (2.0.2)\n",
            "Requirement already satisfied: python-dateutil>=2.8.2 in /usr/local/lib/python3.11/dist-packages (from pandas>=1.5.3->alpaca.py) (2.8.2)\n",
            "Requirement already satisfied: pytz>=2020.1 in /usr/local/lib/python3.11/dist-packages (from pandas>=1.5.3->alpaca.py) (2025.2)\n",
            "Requirement already satisfied: tzdata>=2022.7 in /usr/local/lib/python3.11/dist-packages (from pandas>=1.5.3->alpaca.py) (2025.2)\n",
            "Requirement already satisfied: annotated-types>=0.6.0 in /usr/local/lib/python3.11/dist-packages (from pydantic<3.0.0,>=2.0.3->alpaca.py) (0.7.0)\n",
            "Requirement already satisfied: pydantic-core==2.33.1 in /usr/local/lib/python3.11/dist-packages (from pydantic<3.0.0,>=2.0.3->alpaca.py) (2.33.1)\n",
            "Requirement already satisfied: typing-extensions>=4.12.2 in /usr/local/lib/python3.11/dist-packages (from pydantic<3.0.0,>=2.0.3->alpaca.py) (4.13.1)\n",
            "Requirement already satisfied: typing-inspection>=0.4.0 in /usr/local/lib/python3.11/dist-packages (from pydantic<3.0.0,>=2.0.3->alpaca.py) (0.4.0)\n",
            "Requirement already satisfied: charset-normalizer<4,>=2 in /usr/local/lib/python3.11/dist-packages (from requests<3.0.0,>=2.30.0->alpaca.py) (3.4.1)\n",
            "Requirement already satisfied: idna<4,>=2.5 in /usr/local/lib/python3.11/dist-packages (from requests<3.0.0,>=2.30.0->alpaca.py) (3.10)\n",
            "Requirement already satisfied: urllib3<3,>=1.21.1 in /usr/local/lib/python3.11/dist-packages (from requests<3.0.0,>=2.30.0->alpaca.py) (1.26.20)\n",
            "Requirement already satisfied: certifi>=2017.4.17 in /usr/local/lib/python3.11/dist-packages (from requests<3.0.0,>=2.30.0->alpaca.py) (2025.1.31)\n",
            "Requirement already satisfied: six>=1.5 in /usr/local/lib/python3.11/dist-packages (from python-dateutil>=2.8.2->pandas>=1.5.3->alpaca.py) (1.17.0)\n",
            "Downloading alpaca_py-0.39.4-py3-none-any.whl (121 kB)\n",
            "\u001b[2K   \u001b[90m━━━━━━━━━━━━━━━━━━━━━━━━━━━━━━━━━━━━━━━━\u001b[0m \u001b[32m121.7/121.7 kB\u001b[0m \u001b[31m6.2 MB/s\u001b[0m eta \u001b[36m0:00:00\u001b[0m\n",
            "\u001b[?25hDownloading sseclient_py-1.8.0-py2.py3-none-any.whl (8.8 kB)\n",
            "Installing collected packages: sseclient-py, alpaca.py\n",
            "Successfully installed alpaca.py-0.39.4 sseclient-py-1.8.0\n"
          ]
        }
      ]
    },
    {
      "cell_type": "code",
      "source": [
        "!pip install --upgrade gspread gspread_dataframe\n",
        "!pip install gspread\n",
        "!pip install oauth2client"
      ],
      "metadata": {
        "id": "JYMZEpGTA_Py"
      },
      "execution_count": null,
      "outputs": []
    },
    {
      "cell_type": "code",
      "execution_count": null,
      "metadata": {
        "id": "uteDNL4i-v_N"
      },
      "outputs": [],
      "source": [
        "# imports\n",
        "import matplotlib.pyplot as plt\n",
        "import numpy as np\n",
        "import pandas as pd\n",
        "import seaborn as sns\n",
        "import requests\n",
        "import time\n",
        "import math\n",
        "\n",
        "import alpaca_trade_api as tradeapi\n",
        "\n",
        "# import backtrader as bt"
      ]
    },
    {
      "cell_type": "markdown",
      "source": [
        "### Configuration\n",
        "\n",
        "connects to alpaca account and gets variable for trading client - prints inital account number and buying power of the account - part of general set up"
      ],
      "metadata": {
        "id": "_zDcEyWp-a9F"
      }
    },
    {
      "cell_type": "code",
      "source": [
        "# configuration\n",
        "from google.colab import userdata\n",
        "\n",
        "ALPACA_API_KEY = userdata.get('ALPACA_API_KEY')\n",
        "ALPACA_SECRET_KEY = userdata.get('ALPACA_SECRET_KEY')\n",
        "ALPACA_BASE_URL = 'https://paper-api.alpaca.markets/v2'\n",
        "\n",
        "api = tradeapi.REST(ALPACA_API_KEY, ALPACA_SECRET_KEY, ALPACA_BASE_URL, 'v2')\n",
        "session = requests.Session()"
      ],
      "metadata": {
        "id": "reycyyAiC4bt"
      },
      "execution_count": null,
      "outputs": []
    },
    {
      "cell_type": "code",
      "source": [
        "import gspread\n",
        "from google.auth import default\n",
        "\n",
        "creds, _ = default()\n",
        "gc = gspread.authorize(creds)"
      ],
      "metadata": {
        "id": "1V0dsZY1BEKC"
      },
      "execution_count": null,
      "outputs": []
    },
    {
      "cell_type": "code",
      "source": [
        "from alpaca.trading.client import TradingClient\n",
        "\n",
        "trading_client = TradingClient(ALPACA_API_KEY, ALPACA_SECRET_KEY)\n",
        "\n",
        "print(trading_client.get_account().account_number)\n",
        "print(trading_client.get_account().buying_power)"
      ],
      "metadata": {
        "colab": {
          "base_uri": "https://localhost:8080/"
        },
        "id": "MTu6GZdyLpak",
        "outputId": "0f687f9b-0e2e-44f6-a637-194bb9a8f70e"
      },
      "execution_count": null,
      "outputs": [
        {
          "output_type": "stream",
          "name": "stdout",
          "text": [
            "PA3FTDD94XAH\n",
            "200000\n"
          ]
        }
      ]
    },
    {
      "cell_type": "code",
      "source": [
        "import gspread_dataframe as gd\n",
        "import pandas as pd\n",
        "\n",
        "# Open the Google Sheet\n",
        "sheet = gc.open('TradingBotLogs').sheet1\n",
        "\n",
        "# Set up columns if empty\n",
        "try:\n",
        "    data = sheet.get_all_records()\n",
        "    if not data:\n",
        "        sheet.update('A1', [['Timestamp', 'Action', 'Symbol', 'Price', 'Quantity']])\n",
        "except Exception as e:\n",
        "    print(f\"Error setting up sheet: {e}\")\n",
        "\n",
        "def log_trade(action, symbol, price, qty):\n",
        "    now = pd.Timestamp.now(tz='America/New_York')  # Use NY time for stocks\n",
        "    row = [[now.strftime('%Y-%m-%d %H:%M:%S'), action, symbol, price, qty]]\n",
        "    sheet.append_rows(row)\n",
        "    print(f\"Logged: {row}\")"
      ],
      "metadata": {
        "id": "5ORybXFmBXf1"
      },
      "execution_count": null,
      "outputs": []
    },
    {
      "cell_type": "markdown",
      "source": [
        "### Historical Data\n",
        "\n",
        "though not all market trends will be the same as past historical data it can be good to capture it to understand processing -- helping with trading without emotion using tend (almanac of previous pricing)"
      ],
      "metadata": {
        "id": "eCQLwI2v-s3W"
      }
    },
    {
      "cell_type": "code",
      "source": [
        "# get historical data\n",
        "from alpaca.data import StockHistoricalDataClient, StockTradesRequest\n",
        "from datetime import datetime\n",
        "\n",
        "data_client = StockHistoricalDataClient(ALPACA_API_KEY, ALPACA_SECRET_KEY)\n",
        "\n",
        "request_params = StockTradesRequest(\n",
        "    symbol_or_symbols = \"AAPL\",             # apple\n",
        "    start= datetime(2025, 3, 17, 14, 30),\n",
        "    end= datetime(2025, 3, 17, 15, 30)\n",
        ")\n",
        "\n",
        "trades = data_client.get_stock_trades(request_params)\n",
        "\n",
        "# print(trades) --"
      ],
      "metadata": {
        "id": "GX9YMskZMvAM"
      },
      "execution_count": null,
      "outputs": []
    },
    {
      "cell_type": "markdown",
      "source": [
        "### Functionality\n",
        "\n",
        "* regualr market order (functional)\n",
        "* limit order (functional)\n",
        "\n",
        "### Strategy\n",
        "* get moving averages\n",
        "* generate signal\n",
        "* get current price (refresh on the minute)"
      ],
      "metadata": {
        "id": "4ANJvmql-7iV"
      }
    },
    {
      "cell_type": "code",
      "source": [
        "# placing order reg_market_order limit_order\n",
        "# side = OrderSide.BUY or OrderSide.SELL cleaner - can be reused\n",
        "from alpaca.trading.requests import MarketOrderRequest\n",
        "from alpaca.trading.requests import LimitOrderRequest\n",
        "from alpaca.trading.enums import OrderSide, TimeInForce\n",
        "\n",
        "def reg_market_order(symbol, qty, side):\n",
        "  # regular market order\n",
        "  market_order_data = MarketOrderRequest(\n",
        "      symbol=symbol,\n",
        "      qty=qty,\n",
        "      side=side,\n",
        "      time_in_force=TimeInForce.DAY\n",
        "  )\n",
        "  market_order_data = trading_client.submit_order(market_order_data)\n",
        "  return market_order_data\n",
        "\n",
        "def limit_order(symbol, qty, limit_price, side):\n",
        "  # Shorting --?? / Limit order\n",
        "  limit_order_data = MarketOrderRequest(\n",
        "      symbol=symbol,\n",
        "      qty=qty,\n",
        "      side=side,\n",
        "      time_in_force=TimeInForce.DAY,\n",
        "      limit_price=limit_price\n",
        "  )\n",
        "  limit_order_response = trading_client.submit_order(limit_order_data)\n",
        "  return limit_order_response\n",
        "\n",
        "# print(market_order_data)"
      ],
      "metadata": {
        "colab": {
          "base_uri": "https://localhost:8080/"
        },
        "collapsed": true,
        "id": "KFpIJg70OkXs",
        "outputId": "cb191445-0a43-426e-e2cf-f64d2a5a4083"
      },
      "execution_count": null,
      "outputs": [
        {
          "output_type": "execute_result",
          "data": {
            "text/plain": [
              "{   'asset_class': <AssetClass.US_EQUITY: 'us_equity'>,\n",
              "    'asset_id': UUID('b28f4066-5c6d-479b-a2af-85dc1a8f16fb'),\n",
              "    'canceled_at': None,\n",
              "    'client_order_id': '1168f467-2e1d-46c2-8231-7a269efffac8',\n",
              "    'created_at': datetime.datetime(2025, 4, 18, 2, 32, 48, 854256, tzinfo=TzInfo(UTC)),\n",
              "    'expired_at': None,\n",
              "    'expires_at': datetime.datetime(2025, 4, 21, 20, 0, tzinfo=TzInfo(UTC)),\n",
              "    'extended_hours': False,\n",
              "    'failed_at': None,\n",
              "    'filled_at': None,\n",
              "    'filled_avg_price': None,\n",
              "    'filled_qty': '0',\n",
              "    'hwm': None,\n",
              "    'id': UUID('842948f2-d299-457a-9114-95f3f81fa7fd'),\n",
              "    'legs': None,\n",
              "    'limit_price': None,\n",
              "    'notional': None,\n",
              "    'order_class': <OrderClass.SIMPLE: 'simple'>,\n",
              "    'order_type': <OrderType.MARKET: 'market'>,\n",
              "    'position_intent': <PositionIntent.BUY_TO_OPEN: 'buy_to_open'>,\n",
              "    'qty': '1',\n",
              "    'ratio_qty': None,\n",
              "    'replaced_at': None,\n",
              "    'replaced_by': None,\n",
              "    'replaces': None,\n",
              "    'side': <OrderSide.BUY: 'buy'>,\n",
              "    'status': <OrderStatus.ACCEPTED: 'accepted'>,\n",
              "    'stop_price': None,\n",
              "    'submitted_at': datetime.datetime(2025, 4, 18, 2, 32, 48, 854256, tzinfo=TzInfo(UTC)),\n",
              "    'symbol': 'SPY',\n",
              "    'time_in_force': <TimeInForce.DAY: 'day'>,\n",
              "    'trail_percent': None,\n",
              "    'trail_price': None,\n",
              "    'type': <OrderType.MARKET: 'market'>,\n",
              "    'updated_at': datetime.datetime(2025, 4, 18, 2, 32, 48, 854930, tzinfo=TzInfo(UTC))}"
            ]
          },
          "metadata": {},
          "execution_count": 12
        }
      ]
    },
    {
      "cell_type": "code",
      "source": [
        "# strategy logic\n",
        "import pandas as pd\n",
        "import time\n",
        "\n",
        "def get_moving_averages(symbol, short_window, long_window):\n",
        "    bars = trading_client.get_bars(symbol, timeframe='1Min', limit=long_window).df\n",
        "    bars = bars[bars['symbol'] == symbol]\n",
        "\n",
        "    bars['short_ma'] = bars['close'].rolling(window=short_window).mean()\n",
        "    bars['long_ma'] = bars['close'].rolling(window=long_window).mean()\n",
        "\n",
        "    return bars\n",
        "\n",
        "def generate_signal(df):\n",
        "    if df['short_ma'].iloc[-1] > df['long_ma'].iloc[-1] and df['short_ma'].iloc[-2] <= df['long_ma'].iloc[-2]:\n",
        "        return 'buy'\n",
        "    elif df['short_ma'].iloc[-1] < df['long_ma'].iloc[-1] and df['short_ma'].iloc[-2] >= df['long_ma'].iloc[-2]:\n",
        "        return 'sell'\n",
        "    else:\n",
        "        return 'hold'\n",
        "\n",
        "def get_current_price(symbol):\n",
        "    barset = trading_client.get_bars(symbol, timeframe='1Min', limit=1).df\n",
        "    return barset['close'].iloc[-1]"
      ],
      "metadata": {
        "id": "WeqiBmoD7GCi"
      },
      "execution_count": null,
      "outputs": []
    },
    {
      "cell_type": "markdown",
      "source": [
        "### Trading Loop\n",
        "\n",
        "currently only uses one Symbol (apple) --> waits 60sec between infinite loop\n",
        "\n",
        "* added Stop-Loss and Take-Profit\n",
        "* added trailing stop-loss\n",
        "\n",
        "** TODO: add trailing take-profit\n",
        "* first want to implement trading multiple stocks\n",
        "* and add automation"
      ],
      "metadata": {
        "id": "8HHN-XBo_R1b"
      }
    },
    {
      "cell_type": "code",
      "source": [
        "# Parameters\n",
        "# Symbol\tReason\n",
        "# AAPL\tClassic, safe, massive liquidity\n",
        "# MSFT\tSteady tech blue-chip\n",
        "# TSLA\tVolatile, exciting, fast learner\n",
        "# AMD\tSemiconductors, lots of algorithmic attention\n",
        "# NVDA\tAI boom, big volume, big moves\n",
        "# META (formerly FB)\tTech attention, lots of bots trade it\n",
        "# GOOGL\tSteady, good to learn slow momentum\n",
        "# NFLX\n",
        "symbols = ['AAPL', 'MSFT', 'NVDA', 'META', 'GOOGL', 'NFLX']  # <-- add whatever stocks you want!\n",
        "qty = 1\n",
        "\n",
        "TRAILING_STOP_PERCENT = 0.05\n",
        "\n",
        "short_window = 20\n",
        "long_window = 50\n",
        "\n",
        "# State per stock\n",
        "stock_data = {}\n",
        "\n",
        "for symbol in symbols:\n",
        "    stock_data[symbol] = {\n",
        "        'position': None,\n",
        "        'buy_price': None,\n",
        "        'stop_loss_price': None\n",
        "    }"
      ],
      "metadata": {
        "id": "ZouNiyGvAK3X"
      },
      "execution_count": null,
      "outputs": []
    },
    {
      "cell_type": "code",
      "source": [
        "# basic trading loop trading on the minute\n",
        "while True:\n",
        "    try:\n",
        "        for symbol in symbols:\n",
        "            df = get_moving_averages(symbol, short_window, long_window)\n",
        "            signal = generate_signal(df)\n",
        "            current_price = get_current_price(symbol)\n",
        "\n",
        "            data = stock_data[symbol]\n",
        "\n",
        "            if data['position'] is None:\n",
        "                if signal == 'buy':\n",
        "                    order = reg_market_order(symbol, qty, OrderSide.BUY)\n",
        "                    data['buy_price'] = float(current_price)\n",
        "                    data['stop_loss_price'] = data['buy_price'] * (1 - TRAILING_STOP_PERCENT)\n",
        "                    data['position'] = 'long'\n",
        "                    log_trade('BUY', symbol, data['buy_price'], qty)\n",
        "                    print(f\"Bought {symbol} at ${data['buy_price']:.2f} (Initial stop-loss: ${data['stop_loss_price']:.2f})\")\n",
        "                else:\n",
        "                    print(f\"[{symbol}] Waiting to buy... Signal = {signal}\")\n",
        "\n",
        "            else:\n",
        "                # Trailing stop update\n",
        "                new_stop_loss = current_price * (1 - TRAILING_STOP_PERCENT)\n",
        "                if new_stop_loss > data['stop_loss_price']:\n",
        "                    data['stop_loss_price'] = new_stop_loss\n",
        "                    print(f\"[{symbol}] Trailing stop moved up to ${data['stop_loss_price']:.2f}\")\n",
        "\n",
        "                if current_price <= data['stop_loss_price']:\n",
        "                    order = reg_market_order(symbol, qty, OrderSide.SELL)\n",
        "                    log_trade('SELL', symbol, current_price, qty)\n",
        "                    print(f\"[{symbol}] Stop-loss triggered! Sold at ${current_price:.2f}\")\n",
        "                    data['position'] = None\n",
        "                    data['buy_price'] = None\n",
        "                    data['stop_loss_price'] = None\n",
        "                else:\n",
        "                    print(f\"[{symbol}] Holding... Current price: ${current_price:.2f} | Stop-loss: ${data['stop_loss_price']:.2f}\")\n",
        "\n",
        "    except Exception as e:\n",
        "        print(f\"Error: {e}\")\n",
        "\n",
        "    time.sleep(60)  # Wait 1 minute -- can randomize"
      ],
      "metadata": {
        "id": "khwv_MWz8Y4V"
      },
      "execution_count": null,
      "outputs": []
    },
    {
      "cell_type": "markdown",
      "source": [
        "### Managing account\n",
        "* get all orders\n",
        "* bulk operation for getting all orders\n",
        "* streaming stock market data"
      ],
      "metadata": {
        "id": "f8aR6v83_ltM"
      }
    },
    {
      "cell_type": "code",
      "source": [
        "# get, cancel and managing orders -- managing orders in queue\n",
        "# or else they live there forever ??\n",
        "from alpaca.trading.requests import GetOrdersRequest\n",
        "from alpaca.trading.enums import OrderSide, QueryOrderStatus\n",
        "\n",
        "request_params = GetOrdersRequest(\n",
        "    status=QueryOrderStatus.OPEN,\n",
        ")\n",
        "\n",
        "orders = trading_client.get_orders(request_params)\n",
        "\n",
        "for order in orders:\n",
        "  print(order.id)\n",
        "  trading_client.cancel_order_by_id(order.id)"
      ],
      "metadata": {
        "collapsed": true,
        "id": "VCUCwQwvRdzr"
      },
      "execution_count": null,
      "outputs": []
    },
    {
      "cell_type": "code",
      "source": [
        "# updating all -- bulk operation\n",
        "\n",
        "positions = trading_client.get_all_positions()\n",
        "# print(positions)\n",
        "for position in positions:\n",
        "  print(position.symbol, position.current_price)\n",
        "  # increase set orders\n",
        "  # modify subset of postions (or all in this instance)\n",
        "\n",
        "# completly liquidate account\n",
        "# boolean value is for canceling orders as well\n",
        "# trading_client.close_all_positions(True)"
      ],
      "metadata": {
        "id": "UjsP4p-7SpQl"
      },
      "execution_count": null,
      "outputs": []
    },
    {
      "cell_type": "code",
      "source": [
        "# streaming stocks real time stock market trade data\n",
        "from alpaca.data.live import StockDataStream\n",
        "from alpaca.data.live import CryptoDataStream\n",
        "\n",
        "stream = StockDataStream(ALPACA_API_KEY, ALPACA_SECRET_KEY)\n",
        "\n",
        "async def handle_trade(data):\n",
        "  print(data)\n",
        "\n",
        "stream.subscribe_trades(handle_trade, \"APPL\")\n",
        "stream.run()\n",
        "\n",
        "async def handle_quote(data):\n",
        "  print(data)\n",
        "\n",
        "stream.subscribe_quotes(handle_trade, \"APPL\") # what you can buy stock for at every second?\n",
        "stream.run()"
      ],
      "metadata": {
        "id": "oHTOE6VOyGQb"
      },
      "execution_count": null,
      "outputs": []
    },
    {
      "cell_type": "code",
      "source": [
        "# def get_market_times():\n",
        "#     nyc = timezone('America/New_York')\n",
        "#     today = datetime.now(nyc).date().isoformat()\n",
        "#     calendar = api.get_calendar(start=today, end=today)[0]\n",
        "#     open_time = calendar.open.astimezone(nyc)\n",
        "#     close_time = calendar.close.astimezone(nyc)\n",
        "#     return open_time, close_time\n",
        "\n",
        "# def wait_for_market_open(open_time):\n",
        "#     now = datetime.now(timezone('America/New_York'))\n",
        "#     while now < open_time:\n",
        "#         print(\"Waiting for market to open...\")\n",
        "#         time.sleep(30)\n",
        "#         now = datetime.now(timezone('America/New_York'))"
      ],
      "metadata": {
        "id": "SKihS71rF10R"
      },
      "execution_count": null,
      "outputs": []
    },
    {
      "cell_type": "code",
      "source": [
        "# risk management parameters\n",
        "MIN_SHARE_PRICE = 2.0\n",
        "MAX_SHARE_PRICE = 13.0\n",
        "MIN_DOLLAR_VOLUME = 500000\n",
        "DEFAULT_STOP_LOSS = 0.95\n",
        "RISK_PER_TRADE = 0.001"
      ],
      "metadata": {
        "id": "rf0nNj_-DC9g"
      },
      "execution_count": null,
      "outputs": []
    },
    {
      "cell_type": "code",
      "source": [
        "# data\n",
        "def get_tradable_symbols():\n",
        "  all_assets = api.list_assets()\n",
        "  tradable_symbols = [asset.symbol for asset in all_assets if asset.tradable and asset.status == 'active']\n",
        "  return tradable_symbols\n",
        "\n",
        "def get_recent_minute_history(symbol, limit=1000):\n",
        "  try:\n",
        "    barset = api.get_bars(symbol, tradeapi.TimeFrame.Minute, limit=limit).df\n",
        "    return barset\n",
        "  except Exception as e:\n",
        "    print(f\"Error fetching data for {symbol}: {e}\")\n",
        "    return None"
      ],
      "metadata": {
        "id": "teCPYiGX_Qeh"
      },
      "execution_count": null,
      "outputs": []
    },
    {
      "cell_type": "code",
      "source": [
        "def main():\n",
        "    symbols = get_tradable_symbols()\n",
        "    open_time, close_time = get_market_times()\n",
        "    wait_for_market_open(open_time)\n",
        "\n",
        "    print(f\"Market is open! Evaluating symbols...\")\n",
        "    portfolio_value = float(api.get_account().portfolio_value)\n",
        "\n",
        "    for symbol in symbols:\n",
        "        barset = get_recent_minute_history(symbol)\n",
        "        strategy(symbol, barset, portfolio_value)"
      ],
      "metadata": {
        "id": "f2mhXK3wDqzK"
      },
      "execution_count": null,
      "outputs": []
    },
    {
      "cell_type": "code",
      "source": [
        "main()"
      ],
      "metadata": {
        "id": "LUhcZSJhF_SV"
      },
      "execution_count": null,
      "outputs": []
    },
    {
      "cell_type": "code",
      "source": [
        "class TestStrategy(bt.Strategy):\n",
        "  def __init__(self):\n",
        "    pass\n",
        "  def next(self):\n",
        "    if not self.position:\n",
        "      self.buy()\n",
        "    else:\n",
        "      self.close()\n",
        "\n",
        "cerebro = bt.Cerebro()\n",
        "data = bt.feeds.\n",
        "cerebro.adddata(data)\n",
        "cerebro.addstrategy(TestStrategy)\n",
        "cerebro.run()\n",
        "cerebro.plot()"
      ],
      "metadata": {
        "id": "v9y7g7wp_QKK"
      },
      "execution_count": null,
      "outputs": []
    }
  ]
}